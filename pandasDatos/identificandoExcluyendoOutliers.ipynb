{
 "cells": [
  {
   "cell_type": "markdown",
   "metadata": {},
   "source": [
    "Vamos a ver como identificar y excluir los outliers o puntos fuera de la curva, vamos a trabajar con nuestra libreria de matplot."
   ]
  },
  {
   "cell_type": "code",
   "execution_count": null,
   "metadata": {},
   "outputs": [],
   "source": []
  },
  {
   "cell_type": "code",
   "execution_count": 1,
   "metadata": {},
   "outputs": [],
   "source": [
    "import pandas as pd\n"
   ]
  },
  {
   "cell_type": "code",
   "execution_count": 2,
   "metadata": {},
   "outputs": [],
   "source": [
    "import matplotlib.pyplot as plt\n",
    "plt.rc('figure',figsize=(14,6))"
   ]
  },
  {
   "cell_type": "code",
   "execution_count": 3,
   "metadata": {},
   "outputs": [
    {
     "data": {
      "text/html": [
       "<div>\n",
       "<style scoped>\n",
       "    .dataframe tbody tr th:only-of-type {\n",
       "        vertical-align: middle;\n",
       "    }\n",
       "\n",
       "    .dataframe tbody tr th {\n",
       "        vertical-align: top;\n",
       "    }\n",
       "\n",
       "    .dataframe thead th {\n",
       "        text-align: right;\n",
       "    }\n",
       "</style>\n",
       "<table border=\"1\" class=\"dataframe\">\n",
       "  <thead>\n",
       "    <tr style=\"text-align: right;\">\n",
       "      <th></th>\n",
       "      <th>Tipo</th>\n",
       "      <th>Distrito</th>\n",
       "      <th>Cuartos</th>\n",
       "      <th>Vacantes</th>\n",
       "      <th>Suites</th>\n",
       "      <th>Area</th>\n",
       "      <th>Valor</th>\n",
       "      <th>Mantenimiento</th>\n",
       "      <th>Impuesto</th>\n",
       "      <th>Valor m2</th>\n",
       "      <th>Tipo Agrupado</th>\n",
       "    </tr>\n",
       "  </thead>\n",
       "  <tbody>\n",
       "    <tr>\n",
       "      <th>0</th>\n",
       "      <td>Habitación</td>\n",
       "      <td>San Borja</td>\n",
       "      <td>1</td>\n",
       "      <td>0</td>\n",
       "      <td>0</td>\n",
       "      <td>40</td>\n",
       "      <td>1700.0</td>\n",
       "      <td>500.0</td>\n",
       "      <td>60.0</td>\n",
       "      <td>42.50</td>\n",
       "      <td>Departamento</td>\n",
       "    </tr>\n",
       "    <tr>\n",
       "      <th>1</th>\n",
       "      <td>Casa</td>\n",
       "      <td>Lurigancho</td>\n",
       "      <td>2</td>\n",
       "      <td>0</td>\n",
       "      <td>1</td>\n",
       "      <td>100</td>\n",
       "      <td>7000.0</td>\n",
       "      <td>0.0</td>\n",
       "      <td>0.0</td>\n",
       "      <td>70.00</td>\n",
       "      <td>Casa</td>\n",
       "    </tr>\n",
       "    <tr>\n",
       "      <th>2</th>\n",
       "      <td>Departamento</td>\n",
       "      <td>Pachacámac</td>\n",
       "      <td>1</td>\n",
       "      <td>0</td>\n",
       "      <td>0</td>\n",
       "      <td>15</td>\n",
       "      <td>800.0</td>\n",
       "      <td>390.0</td>\n",
       "      <td>20.0</td>\n",
       "      <td>53.33</td>\n",
       "      <td>Departamento</td>\n",
       "    </tr>\n",
       "    <tr>\n",
       "      <th>3</th>\n",
       "      <td>Departamento</td>\n",
       "      <td>Ate</td>\n",
       "      <td>1</td>\n",
       "      <td>0</td>\n",
       "      <td>0</td>\n",
       "      <td>48</td>\n",
       "      <td>800.0</td>\n",
       "      <td>230.0</td>\n",
       "      <td>0.0</td>\n",
       "      <td>16.67</td>\n",
       "      <td>Departamento</td>\n",
       "    </tr>\n",
       "    <tr>\n",
       "      <th>4</th>\n",
       "      <td>Departamento</td>\n",
       "      <td>Comas</td>\n",
       "      <td>2</td>\n",
       "      <td>0</td>\n",
       "      <td>0</td>\n",
       "      <td>50</td>\n",
       "      <td>1300.0</td>\n",
       "      <td>301.0</td>\n",
       "      <td>17.0</td>\n",
       "      <td>26.00</td>\n",
       "      <td>Departamento</td>\n",
       "    </tr>\n",
       "    <tr>\n",
       "      <th>5</th>\n",
       "      <td>Casa en condominio</td>\n",
       "      <td>Ate</td>\n",
       "      <td>5</td>\n",
       "      <td>4</td>\n",
       "      <td>5</td>\n",
       "      <td>750</td>\n",
       "      <td>22000.0</td>\n",
       "      <td>0.0</td>\n",
       "      <td>0.0</td>\n",
       "      <td>29.33</td>\n",
       "      <td>Casa</td>\n",
       "    </tr>\n",
       "    <tr>\n",
       "      <th>6</th>\n",
       "      <td>Casa en condominio</td>\n",
       "      <td>El Agustino</td>\n",
       "      <td>2</td>\n",
       "      <td>2</td>\n",
       "      <td>0</td>\n",
       "      <td>65</td>\n",
       "      <td>1000.0</td>\n",
       "      <td>0.0</td>\n",
       "      <td>0.0</td>\n",
       "      <td>15.38</td>\n",
       "      <td>Casa</td>\n",
       "    </tr>\n",
       "    <tr>\n",
       "      <th>7</th>\n",
       "      <td>Departamento</td>\n",
       "      <td>Mi Perú</td>\n",
       "      <td>2</td>\n",
       "      <td>1</td>\n",
       "      <td>0</td>\n",
       "      <td>70</td>\n",
       "      <td>1500.0</td>\n",
       "      <td>642.0</td>\n",
       "      <td>74.0</td>\n",
       "      <td>21.43</td>\n",
       "      <td>Departamento</td>\n",
       "    </tr>\n",
       "    <tr>\n",
       "      <th>8</th>\n",
       "      <td>Departamento</td>\n",
       "      <td>San Borja</td>\n",
       "      <td>3</td>\n",
       "      <td>1</td>\n",
       "      <td>1</td>\n",
       "      <td>90</td>\n",
       "      <td>1500.0</td>\n",
       "      <td>455.0</td>\n",
       "      <td>14.0</td>\n",
       "      <td>16.67</td>\n",
       "      <td>Departamento</td>\n",
       "    </tr>\n",
       "    <tr>\n",
       "      <th>9</th>\n",
       "      <td>Departamento</td>\n",
       "      <td>San Borja</td>\n",
       "      <td>1</td>\n",
       "      <td>0</td>\n",
       "      <td>1</td>\n",
       "      <td>40</td>\n",
       "      <td>2000.0</td>\n",
       "      <td>561.0</td>\n",
       "      <td>50.0</td>\n",
       "      <td>50.00</td>\n",
       "      <td>Departamento</td>\n",
       "    </tr>\n",
       "  </tbody>\n",
       "</table>\n",
       "</div>"
      ],
      "text/plain": [
       "                 Tipo     Distrito  Cuartos  Vacantes  Suites  Area    Valor  \\\n",
       "0          Habitación    San Borja        1         0       0    40   1700.0   \n",
       "1                Casa   Lurigancho        2         0       1   100   7000.0   \n",
       "2        Departamento   Pachacámac        1         0       0    15    800.0   \n",
       "3        Departamento          Ate        1         0       0    48    800.0   \n",
       "4        Departamento        Comas        2         0       0    50   1300.0   \n",
       "5  Casa en condominio          Ate        5         4       5   750  22000.0   \n",
       "6  Casa en condominio  El Agustino        2         2       0    65   1000.0   \n",
       "7        Departamento      Mi Perú        2         1       0    70   1500.0   \n",
       "8        Departamento    San Borja        3         1       1    90   1500.0   \n",
       "9        Departamento    San Borja        1         0       1    40   2000.0   \n",
       "\n",
       "   Mantenimiento  Impuesto  Valor m2 Tipo Agrupado  \n",
       "0          500.0      60.0     42.50  Departamento  \n",
       "1            0.0       0.0     70.00          Casa  \n",
       "2          390.0      20.0     53.33  Departamento  \n",
       "3          230.0       0.0     16.67  Departamento  \n",
       "4          301.0      17.0     26.00  Departamento  \n",
       "5            0.0       0.0     29.33          Casa  \n",
       "6            0.0       0.0     15.38          Casa  \n",
       "7          642.0      74.0     21.43  Departamento  \n",
       "8          455.0      14.0     16.67  Departamento  \n",
       "9          561.0      50.0     50.00  Departamento  "
      ]
     },
     "execution_count": 3,
     "metadata": {},
     "output_type": "execute_result"
    }
   ],
   "source": [
    "dt=pd.read_csv(r\"C:\\Users\\User\\Desktop\\dataScience\\pandasDatos\\alquilerResidencial.csv\",sep=\";\")\n",
    "dt.head(10)"
   ]
  },
  {
   "cell_type": "code",
   "execution_count": 4,
   "metadata": {},
   "outputs": [
    {
     "data": {
      "text/plain": [
       "<Axes: >"
      ]
     },
     "execution_count": 4,
     "metadata": {},
     "output_type": "execute_result"
    },
    {
     "data": {
      "image/png": "[encoded data removed]",
      "text/plain": [
       "<Figure size 1400x600 with 1 Axes>"
      ]
     },
     "metadata": {},
     "output_type": "display_data"
    }
   ],
   "source": [
    "#tenemos que crear el boxplot que es un grafico que va a dividir nuestro df en cuartiles y tomara la media de esos datos, ese boxplot  tendra un limite inferiro y otro superiro que es donde estaran nuestros outliers o los datos fuera del rango,para crear el grafico boxplot simplemente invocamos el metodo boxplot() y le debemos pasar una columna que se pueda medir,osea que tenga valores medibles. Este grafico muestra donde se encuentra la concentracion de nuestros datos, en este caso estan en la parte inferior.El le6 significa logaritmo6,en si esta creando estos 4 indices pero por ese logaritmo se deben leer como si estuvieran de 1millon en 1 millon, entonces nuestros datos estan en el rango de los 500mil dolares y un poco mas.\n",
    "dt.boxplot(['Valor'])"
   ]
  },
  {
   "cell_type": "code",
   "execution_count": 5,
   "metadata": {},
   "outputs": [
    {
     "data": {
      "text/html": [
       "<div>\n",
       "<style scoped>\n",
       "    .dataframe tbody tr th:only-of-type {\n",
       "        vertical-align: middle;\n",
       "    }\n",
       "\n",
       "    .dataframe tbody tr th {\n",
       "        vertical-align: top;\n",
       "    }\n",
       "\n",
       "    .dataframe thead th {\n",
       "        text-align: right;\n",
       "    }\n",
       "</style>\n",
       "<table border=\"1\" class=\"dataframe\">\n",
       "  <thead>\n",
       "    <tr style=\"text-align: right;\">\n",
       "      <th></th>\n",
       "      <th>Tipo</th>\n",
       "      <th>Distrito</th>\n",
       "      <th>Cuartos</th>\n",
       "      <th>Vacantes</th>\n",
       "      <th>Suites</th>\n",
       "      <th>Area</th>\n",
       "      <th>Valor</th>\n",
       "      <th>Mantenimiento</th>\n",
       "      <th>Impuesto</th>\n",
       "      <th>Valor m2</th>\n",
       "      <th>Tipo Agrupado</th>\n",
       "    </tr>\n",
       "  </thead>\n",
       "  <tbody>\n",
       "    <tr>\n",
       "      <th>7731</th>\n",
       "      <td>Departamento</td>\n",
       "      <td>Ate</td>\n",
       "      <td>1</td>\n",
       "      <td>1</td>\n",
       "      <td>0</td>\n",
       "      <td>65</td>\n",
       "      <td>600000.0</td>\n",
       "      <td>980.0</td>\n",
       "      <td>120.0</td>\n",
       "      <td>9230.77</td>\n",
       "      <td>Departamento</td>\n",
       "    </tr>\n",
       "    <tr>\n",
       "      <th>10774</th>\n",
       "      <td>Casa en condominio</td>\n",
       "      <td>Callao</td>\n",
       "      <td>4</td>\n",
       "      <td>2</td>\n",
       "      <td>3</td>\n",
       "      <td>163</td>\n",
       "      <td>800000.0</td>\n",
       "      <td>900.0</td>\n",
       "      <td>0.0</td>\n",
       "      <td>4907.98</td>\n",
       "      <td>Casa</td>\n",
       "    </tr>\n",
       "    <tr>\n",
       "      <th>12822</th>\n",
       "      <td>Departamento</td>\n",
       "      <td>Callao</td>\n",
       "      <td>2</td>\n",
       "      <td>2</td>\n",
       "      <td>1</td>\n",
       "      <td>150</td>\n",
       "      <td>550000.0</td>\n",
       "      <td>850.0</td>\n",
       "      <td>150.0</td>\n",
       "      <td>3666.67</td>\n",
       "      <td>Departamento</td>\n",
       "    </tr>\n",
       "    <tr>\n",
       "      <th>14023</th>\n",
       "      <td>Departamento</td>\n",
       "      <td>Jesús María</td>\n",
       "      <td>3</td>\n",
       "      <td>2</td>\n",
       "      <td>1</td>\n",
       "      <td>167</td>\n",
       "      <td>1250000.0</td>\n",
       "      <td>1186.0</td>\n",
       "      <td>320.0</td>\n",
       "      <td>7485.03</td>\n",
       "      <td>Departamento</td>\n",
       "    </tr>\n",
       "    <tr>\n",
       "      <th>15715</th>\n",
       "      <td>Departamento</td>\n",
       "      <td>Chorrillos</td>\n",
       "      <td>4</td>\n",
       "      <td>1</td>\n",
       "      <td>1</td>\n",
       "      <td>300</td>\n",
       "      <td>4500000.0</td>\n",
       "      <td>1100.0</td>\n",
       "      <td>0.0</td>\n",
       "      <td>15000.00</td>\n",
       "      <td>Departamento</td>\n",
       "    </tr>\n",
       "  </tbody>\n",
       "</table>\n",
       "</div>"
      ],
      "text/plain": [
       "                     Tipo     Distrito  Cuartos  Vacantes  Suites  Area  \\\n",
       "7731         Departamento          Ate        1         1       0    65   \n",
       "10774  Casa en condominio       Callao        4         2       3   163   \n",
       "12822        Departamento       Callao        2         2       1   150   \n",
       "14023        Departamento  Jesús María        3         2       1   167   \n",
       "15715        Departamento   Chorrillos        4         1       1   300   \n",
       "\n",
       "           Valor  Mantenimiento  Impuesto  Valor m2 Tipo Agrupado  \n",
       "7731    600000.0          980.0     120.0   9230.77  Departamento  \n",
       "10774   800000.0          900.0       0.0   4907.98          Casa  \n",
       "12822   550000.0          850.0     150.0   3666.67  Departamento  \n",
       "14023  1250000.0         1186.0     320.0   7485.03  Departamento  \n",
       "15715  4500000.0         1100.0       0.0  15000.00  Departamento  "
      ]
     },
     "execution_count": 5,
     "metadata": {},
     "output_type": "execute_result"
    }
   ],
   "source": [
    "#los datos que estan fuera del rango son los outliers, entonces en este caso seran los que estan en un valor mayor a 500mil,para verlos hacemos asi:\n",
    "dt[dt['Valor']>=500000]"
   ]
  },
  {
   "cell_type": "code",
   "execution_count": 6,
   "metadata": {},
   "outputs": [],
   "source": [
    "#tenemos 5 valores outliers en nuestro df, para eliminar estos outliers y asi tener un df con valores correctos creamos nuestros cuartiles utilizando la grafica del boxplot.Primero capturamos todos los datos de la columna Valor en una variable.\n",
    "valor=dt['Valor']\n"
   ]
  },
  {
   "cell_type": "code",
   "execution_count": 7,
   "metadata": {},
   "outputs": [],
   "source": [
    "#ahora con esos datos creamos nuestros cuartiles utilizando el metodo quantile() de pandas, el primer cuartil representa el 25% de los datos, el cuartil Q3 representara el 75% restante de los datos,por lo que con esto creamos nuestros cuartiles aplicando las formulas.\n",
    "Q1=valor.quantile(.25)\n",
    "Q3=valor.quantile(.75)\n",
    "IIQ=Q3-Q1 #INTERVALO INTERCUARTIL\n",
    "limiteInferior=Q1-1.5*IIQ\n",
    "limiteSuperior=Q3+1.5*IIQ"
   ]
  },
  {
   "cell_type": "code",
   "execution_count": 8,
   "metadata": {},
   "outputs": [],
   "source": [
    "#ahora creamos nuestro criterio de seleccion,osea las condiciones para sacr mi df sin los outliers,en si este criterio tendra 2 condiciones, la primera condicion es que los valores del nuevo df seran mayores o iguales al limite inferior que calculamos, y la segunda que los valores del nuevo df seran menores o iguales al limite superior asi:\n",
    "seleccion=((valor>=limiteInferior) & (valor<=limiteSuperior))"
   ]
  },
  {
   "cell_type": "code",
   "execution_count": 9,
   "metadata": {},
   "outputs": [],
   "source": [
    "#Listo,ahora creo mi nuevo df que sera basado en el df original pero debera cumplir el criterio de seleccion asi:\n",
    "dtNew=dt[seleccion]"
   ]
  },
  {
   "cell_type": "code",
   "execution_count": 10,
   "metadata": {},
   "outputs": [
    {
     "data": {
      "text/plain": [
       "<Axes: >"
      ]
     },
     "execution_count": 10,
     "metadata": {},
     "output_type": "execute_result"
    }
   ],
   "source": [
    "#ya con mi nuevo df puedo sacar el boxplot, si no me sale grafica es por una cuestion del vscode, en la grafica sale un cuadro que es donde esta la media de los datos,osea los datos correctos que necesitamos.\n",
    "dtNew.boxplot(['Valor'])"
   ]
  },
  {
   "cell_type": "code",
   "execution_count": 11,
   "metadata": {},
   "outputs": [
    {
     "data": {
      "text/plain": [
       "array([[<Axes: title={'center': 'Valor'}>]], dtype=object)"
      ]
     },
     "execution_count": 11,
     "metadata": {},
     "output_type": "execute_result"
    }
   ],
   "source": [
    "#puedo mostrar el histograma,que es un grafico de barras, lo hacemos con el metodo hist().\n",
    "dtNew.hist(['Valor'])"
   ]
  },
  {
   "cell_type": "code",
   "execution_count": 12,
   "metadata": {},
   "outputs": [
    {
     "data": {
      "text/plain": [
       "<Axes: title={'center': 'Valor'}, xlabel='[Tipo]'>"
      ]
     },
     "execution_count": 12,
     "metadata": {},
     "output_type": "execute_result"
    }
   ],
   "source": [
    "#ahora, partiendo del df original nosotros generamos un primer boxplot por la columna Valor,pero estos datos no son los correctos porque no tuvimos en cuenta el tipo de construccion, si fue una casa pues vale mas que una habitacion,entonces lo que debimos haber echo en un principio para sacar el boxplot fue esto:\n",
    "dt.boxplot(['Valor'], by=['Tipo'])"
   ]
  },
  {
   "cell_type": "code",
   "execution_count": 15,
   "metadata": {},
   "outputs": [
    {
     "data": {
      "text/plain": [
       "pandas.core.groupby.generic.SeriesGroupBy"
      ]
     },
     "execution_count": 15,
     "metadata": {},
     "output_type": "execute_result"
    }
   ],
   "source": [
    "#entonces, como los valores dependen del tipo de inmueble, vamos a ver como crear nuestro bloxplot pero excluyendo los outliers por grupos,en este caso por tipo de inmueble,primero agrupamos los tipos del df original.Con groupby() crearemos un dataframe pero ahora basados en una columna especifica.Pero como queremos es el valor se lo indicamos pasando esa columna tambien, asi ya no sera un df(osea un conjunto de columnas) sino sera una serie(solo una columna)\n",
    "grupoTipo=dt.groupby('Tipo')['Valor']\n",
    "type(grupoTipo)"
   ]
  },
  {
   "cell_type": "code",
   "execution_count": 17,
   "metadata": {},
   "outputs": [
    {
     "data": {
      "text/plain": [
       "{'Casa': [1, 22, 54, 57, 97, 101, 146, 162, 182, 241, 253, 256, 267, 289, 313, 319, 338, 343, 361, 382, 389, 403, 428, 438, 479, 480, 486, 517, 548, 549, 574, 579, 580, 626, 630, 639, 644, 645, 670, 686, 710, 731, 734, 771, 782, 792, 869, 886, 953, 999, 1046, 1053, 1136, 1141, 1143, 1175, 1196, 1268, 1275, 1336, 1355, 1370, 1391, 1434, 1448, 1452, 1463, 1468, 1495, 1498, 1511, 1611, 1629, 1681, 1687, 1691, 1696, 1709, 1734, 1742, 1787, 1836, 1861, 1901, 1931, 1959, 1968, 1987, 2046, 2066, 2083, 2102, 2128, 2134, 2135, 2160, 2198, 2229, 2232, 2239, ...], 'Casa comercial': [58, 138, 195, 327, 454, 491, 565, 578, 627, 649, 768, 784, 828, 910, 912, 914, 975, 1061, 1206, 1317, 1401, 1423, 1457, 1521, 1536, 1790, 1976, 2194, 2522, 2549, 2569, 2618, 2626, 2669, 2696, 2832, 2904, 2979, 3135, 3146, 3159, 3249, 3324, 3376, 3378, 3389, 3398, 3613, 3881, 3934, 3994, 4038, 4049, 4510, 4594, 4791, 4818, 4875, 4953, 4980, 5010, 5069, 5092, 5124, 5272, 5326, 5330, 5331, 5399, 5429, 5554, 5673, 5748, 5757, 5826, 5958, 5970, 6044, 6052, 6083, 6209, 6217, 6268, 6314, 6453, 6455, 6534, 6535, 6555, 6682, 6697, 6821, 6848, 6934, 6986, 7210, 7241, 7345, 7436, 7446, ...], 'Casa de villa': [82, 215, 223, 306, 336, 707, 835, 857, 934, 1029, 1373, 1382, 1470, 1514, 1578, 1664, 1694, 1728, 1795, 2114, 2277, 2295, 2474, 2563, 2578, 2638, 2675, 2762, 2876, 2909, 3015, 3022, 3055, 3063, 3343, 3473, 3570, 3751, 3871, 3904, 3907, 3912, 4147, 4199, 4206, 4218, 4393, 4497, 4884, 5215, 5234, 5239, 5262, 5362, 5480, 5606, 5668, 5798, 5825, 5988, 6027, 6074, 6088, 6111, 6129, 6284, 6320, 6384, 6432, 6488, 6515, 6846, 6888, 7034, 7052, 7128, 7186, 7243, 7394, 7800, 7815, 7881, 7940, 7946, 8071, 8107, 8241, 8536, 8562, 8690, 9346, 9351, 9439, 9597, 9741, 9746, 9838, 9861, 9910, 9994, ...], 'Casa en condominio': [5, 6, 12, 16, 42, 59, 168, 170, 185, 210, 225, 249, 262, 268, 282, 294, 311, 340, 395, 405, 444, 449, 453, 508, 562, 617, 631, 667, 673, 683, 717, 733, 793, 819, 821, 876, 896, 900, 950, 974, 978, 996, 1003, 1009, 1021, 1025, 1045, 1100, 1113, 1130, 1147, 1166, 1176, 1200, 1239, 1246, 1248, 1258, 1265, 1328, 1332, 1340, 1361, 1376, 1428, 1461, 1462, 1490, 1518, 1556, 1585, 1607, 1626, 1640, 1671, 1738, 1747, 1753, 1781, 1789, 1796, 1828, 1886, 1906, 1909, 1925, 1964, 2058, 2060, 2098, 2179, 2196, 2228, 2252, 2274, 2276, 2355, 2361, 2385, 2399, ...], 'Departamento': [2, 3, 4, 7, 8, 9, 11, 13, 14, 15, 17, 18, 19, 20, 21, 23, 24, 25, 26, 27, 29, 30, 31, 32, 33, 34, 35, 36, 37, 38, 39, 40, 41, 43, 44, 45, 46, 47, 48, 49, 50, 51, 52, 53, 55, 56, 60, 61, 62, 63, 64, 65, 66, 67, 68, 69, 70, 71, 73, 74, 75, 76, 77, 78, 80, 81, 83, 84, 85, 86, 88, 89, 90, 91, 92, 93, 94, 95, 96, 98, 99, 100, 103, 104, 105, 106, 107, 108, 109, 110, 111, 112, 113, 114, 115, 116, 117, 118, 119, 120, ...], 'Habitación': [0, 10, 28, 72, 79, 87, 102, 121, 148, 176, 193, 209, 226, 251, 304, 317, 331, 348, 359, 429, 430, 431, 465, 492, 538, 642, 660, 690, 820, 883, 933, 935, 940, 944, 955, 960, 987, 1018, 1033, 1062, 1088, 1174, 1188, 1190, 1202, 1211, 1215, 1231, 1236, 1280, 1293, 1354, 1371, 1380, 1414, 1426, 1429, 1506, 1519, 1534, 1568, 1620, 1636, 1638, 1658, 1721, 1722, 1731, 1758, 1778, 1798, 1850, 1865, 1879, 1936, 2040, 2112, 2125, 2152, 2169, 2176, 2183, 2187, 2255, 2265, 2267, 2286, 2300, 2354, 2390, 2410, 2411, 2412, 2422, 2473, 2485, 2490, 2521, 2536, 2663, ...]}"
      ]
     },
     "execution_count": 17,
     "metadata": {},
     "output_type": "execute_result"
    }
   ],
   "source": [
    "#si ahora utilizamos el metodo groups() veremos el valor de cada uno de los tipos de inmuebles del df\n",
    "grupoTipo.groups"
   ]
  },
  {
   "cell_type": "code",
   "execution_count": 37,
   "metadata": {},
   "outputs": [],
   "source": [
    "#ya agrupados nuestros valores por tipo de inmueble,podemos generar los calculos de los cuartiles para despues generar el boxplot. Con estos calculos lo que obtendremos son las medidas de limites superior e inferior de cada uno de los tipos,pues agrupamos los valores por tipo.\n",
    "Q1=grupoTipo.quantile(.25)\n",
    "Q3=grupoTipo.quantile(.75)\n",
    "IIQ=Q3-Q1 #INTERVALO INTERCUARTIL\n",
    "limiteInferior=Q1-1.5*IIQ\n",
    "limiteSuperior=Q3+1.5*IIQ"
   ]
  },
  {
   "cell_type": "code",
   "execution_count": 38,
   "metadata": {},
   "outputs": [
    {
     "data": {
      "text/plain": [
       "Tipo\n",
       "Casa                 -11950.0\n",
       "Casa comercial       -12000.0\n",
       "Casa de villa          -825.0\n",
       "Casa en condominio   -12875.0\n",
       "Departamento          -3250.0\n",
       "Habitación                0.0\n",
       "Name: Valor, dtype: float64"
      ]
     },
     "execution_count": 38,
     "metadata": {},
     "output_type": "execute_result"
    }
   ],
   "source": [
    "limiteInferior\n"
   ]
  },
  {
   "cell_type": "code",
   "execution_count": 39,
   "metadata": {},
   "outputs": [],
   "source": [
    "#ahora creamos un nuevo df en blanco\n",
    "#1. Primero, se crea un DataFrame vacío llamado `datos_new`. Este será el DataFrame donde se almacenarán los datos seleccionados.\n",
    "#2. Luego, se recorre cada tipo de vivienda en el conjunto de datos utilizando el bucle **for**. Por ejemplo, en la base de datos existen 5 tipos de viviendas (Departamento, Habitación, Casa de Villa, etc), el bucle se ejecutará tres veces, una para cada tipo de vivienda.\n",
    "#3. Dentro del bucle, se crea una condición llamada `eh_tipo` que verifica si el tipo de vivienda en una fila coincide con el tipo de vivienda actual del bucle. Por ejemplo, si el tipo actual es \"Departamentio\", la condición `eh_tipo` será True para las filas donde el tipo de vivienda sea \"Departamento\" y False para las filas con otros tipos de vivienda.\n",
    "#4. Después, se establecen otras condiciones para seleccionar las filas que cumplen ciertos criterios, como estar dentro de ciertos límites.\n",
    "#5. A continuación, se crea una nueva variable llamada seleccion que combina la condición eh_tipo con otras condiciones utilizando el operador lógico \"&\". Esto significa que la fila debe cumplir tanto la condición de tipo de vivienda como las otras condiciones para ser seleccionada.\n",
    "#6. Luego, se seleccionan las filas que cumplen la condición seleccion del DataFrame original y se almacenan en un nuevo DataFrame que es datos_seleccion.\n",
    "#7. Finalmente, el DataFrame datos_seleccion se agrega al DataFrame datos_new utilizando la función pd.concat(), que concatena los DataFrames. Esto se hace en cada iteración del bucle para ir acumulando las filas seleccionadas.\n",
    "dtNew=pd.DataFrame()\n",
    "for tipo in grupoTipo.groups.keys():\n",
    "    eTipo=dt['Tipo']==tipo\n",
    "    eDentroLimite=(dt['Valor']>=limiteInferior[tipo]) & (dt['Valor']<=limiteSuperior[tipo])\n",
    "    seleccion=eTipo&eDentroLimite\n",
    "    dtSeleccion=dt[seleccion]\n",
    "    dtNew=pd.concat([dtNew,dtSeleccion])\n"
   ]
  },
  {
   "cell_type": "code",
   "execution_count": 40,
   "metadata": {},
   "outputs": [
    {
     "data": {
      "text/plain": [
       "<Axes: title={'center': 'Valor'}, xlabel='[Tipo]'>"
      ]
     },
     "execution_count": 40,
     "metadata": {},
     "output_type": "execute_result"
    }
   ],
   "source": [
    "#ahora ya puedo sacar el boxplot de este nuevo df, el boxplot debera sacar los valores pero agrupados por tipo de inmueble\n",
    "dtNew.boxplot(['Valor'], by=['Tipo'])"
   ]
  },
  {
   "cell_type": "code",
   "execution_count": 41,
   "metadata": {},
   "outputs": [],
   "source": [
    "#listo,este nuevo df ya lo puedo enviar al cliente,lo exportamos con un nuevo nombre a un tipo de archivo .csv, este archivo ya tiene los datos correctos sin outliers.\n",
    "dtNew.to_csv('alquilerResidencialSinOutLiers.csv',sep=';',index=False)"
   ]
  }
 ],
 "metadata": {
  "kernelspec": {
   "display_name": "Python 3.11.0 64-bit",
   "language": "python",
   "name": "python3"
  },
  "language_info": {
   "codemirror_mode": {
    "name": "ipython",
    "version": 3
   },
   "file_extension": ".py",
   "mimetype": "text/x-python",
   "name": "python",
   "nbconvert_exporter": "python",
   "pygments_lexer": "ipython3",
   "version": "3.11.0"
  },
  "orig_nbformat": 4,
  "vscode": {
   "interpreter": {
    "hash": "d417a21d97a2e6b8832d21dc44f5cbe4be6e18325f874a8bb8484565b928cd54"
   }
  }
 },
 "nbformat": 4,
 "nbformat_minor": 2
}
