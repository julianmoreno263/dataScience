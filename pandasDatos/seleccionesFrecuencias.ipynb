{
 "cells": [
  {
   "cell_type": "markdown",
   "metadata": {},
   "source": [
    "Vamos a comenzar a ver frecuencias y selecciones, una frecuencia en si es el numero de veces que se repite un elemento."
   ]
  },
  {
   "cell_type": "code",
   "execution_count": 20,
   "metadata": {},
   "outputs": [],
   "source": [
    "import pandas as pd"
   ]
  },
  {
   "cell_type": "code",
   "execution_count": 21,
   "metadata": {},
   "outputs": [
    {
     "data": {
      "text/html": [
       "<div>\n",
       "<style scoped>\n",
       "    .dataframe tbody tr th:only-of-type {\n",
       "        vertical-align: middle;\n",
       "    }\n",
       "\n",
       "    .dataframe tbody tr th {\n",
       "        vertical-align: top;\n",
       "    }\n",
       "\n",
       "    .dataframe thead th {\n",
       "        text-align: right;\n",
       "    }\n",
       "</style>\n",
       "<table border=\"1\" class=\"dataframe\">\n",
       "  <thead>\n",
       "    <tr style=\"text-align: right;\">\n",
       "      <th></th>\n",
       "      <th>Tipo</th>\n",
       "      <th>Distrito</th>\n",
       "      <th>Cuartos</th>\n",
       "      <th>Vacantes</th>\n",
       "      <th>Suites</th>\n",
       "      <th>Area</th>\n",
       "      <th>Valor</th>\n",
       "      <th>Mantenimiento</th>\n",
       "      <th>Impuesto</th>\n",
       "    </tr>\n",
       "  </thead>\n",
       "  <tbody>\n",
       "    <tr>\n",
       "      <th>0</th>\n",
       "      <td>Habitación</td>\n",
       "      <td>San Borja</td>\n",
       "      <td>1</td>\n",
       "      <td>0</td>\n",
       "      <td>0</td>\n",
       "      <td>40</td>\n",
       "      <td>1700.0</td>\n",
       "      <td>500.0</td>\n",
       "      <td>60.0</td>\n",
       "    </tr>\n",
       "    <tr>\n",
       "      <th>1</th>\n",
       "      <td>Casa</td>\n",
       "      <td>Lurigancho</td>\n",
       "      <td>2</td>\n",
       "      <td>0</td>\n",
       "      <td>1</td>\n",
       "      <td>100</td>\n",
       "      <td>7000.0</td>\n",
       "      <td>NaN</td>\n",
       "      <td>NaN</td>\n",
       "    </tr>\n",
       "    <tr>\n",
       "      <th>2</th>\n",
       "      <td>Departamento</td>\n",
       "      <td>Pachacámac</td>\n",
       "      <td>1</td>\n",
       "      <td>0</td>\n",
       "      <td>0</td>\n",
       "      <td>15</td>\n",
       "      <td>800.0</td>\n",
       "      <td>390.0</td>\n",
       "      <td>20.0</td>\n",
       "    </tr>\n",
       "    <tr>\n",
       "      <th>3</th>\n",
       "      <td>Departamento</td>\n",
       "      <td>Ate</td>\n",
       "      <td>1</td>\n",
       "      <td>0</td>\n",
       "      <td>0</td>\n",
       "      <td>48</td>\n",
       "      <td>800.0</td>\n",
       "      <td>230.0</td>\n",
       "      <td>NaN</td>\n",
       "    </tr>\n",
       "    <tr>\n",
       "      <th>4</th>\n",
       "      <td>Departamento</td>\n",
       "      <td>Barranco</td>\n",
       "      <td>3</td>\n",
       "      <td>1</td>\n",
       "      <td>0</td>\n",
       "      <td>70</td>\n",
       "      <td>1200.0</td>\n",
       "      <td>NaN</td>\n",
       "      <td>NaN</td>\n",
       "    </tr>\n",
       "    <tr>\n",
       "      <th>5</th>\n",
       "      <td>Departamento</td>\n",
       "      <td>Comas</td>\n",
       "      <td>2</td>\n",
       "      <td>0</td>\n",
       "      <td>0</td>\n",
       "      <td>50</td>\n",
       "      <td>1300.0</td>\n",
       "      <td>301.0</td>\n",
       "      <td>17.0</td>\n",
       "    </tr>\n",
       "    <tr>\n",
       "      <th>6</th>\n",
       "      <td>Casa en condominio</td>\n",
       "      <td>Ate</td>\n",
       "      <td>5</td>\n",
       "      <td>4</td>\n",
       "      <td>5</td>\n",
       "      <td>750</td>\n",
       "      <td>22000.0</td>\n",
       "      <td>NaN</td>\n",
       "      <td>NaN</td>\n",
       "    </tr>\n",
       "    <tr>\n",
       "      <th>7</th>\n",
       "      <td>Casa en condominio</td>\n",
       "      <td>El Agustino</td>\n",
       "      <td>2</td>\n",
       "      <td>2</td>\n",
       "      <td>0</td>\n",
       "      <td>65</td>\n",
       "      <td>1000.0</td>\n",
       "      <td>NaN</td>\n",
       "      <td>NaN</td>\n",
       "    </tr>\n",
       "    <tr>\n",
       "      <th>8</th>\n",
       "      <td>Departamento</td>\n",
       "      <td>Pachacámac</td>\n",
       "      <td>1</td>\n",
       "      <td>0</td>\n",
       "      <td>0</td>\n",
       "      <td>36</td>\n",
       "      <td>1200.0</td>\n",
       "      <td>NaN</td>\n",
       "      <td>NaN</td>\n",
       "    </tr>\n",
       "    <tr>\n",
       "      <th>9</th>\n",
       "      <td>Departamento</td>\n",
       "      <td>Mi Perú</td>\n",
       "      <td>2</td>\n",
       "      <td>1</td>\n",
       "      <td>0</td>\n",
       "      <td>70</td>\n",
       "      <td>1500.0</td>\n",
       "      <td>642.0</td>\n",
       "      <td>74.0</td>\n",
       "    </tr>\n",
       "  </tbody>\n",
       "</table>\n",
       "</div>"
      ],
      "text/plain": [
       "                 Tipo     Distrito  Cuartos  Vacantes  Suites  Area    Valor  \\\n",
       "0          Habitación    San Borja        1         0       0    40   1700.0   \n",
       "1                Casa   Lurigancho        2         0       1   100   7000.0   \n",
       "2        Departamento   Pachacámac        1         0       0    15    800.0   \n",
       "3        Departamento          Ate        1         0       0    48    800.0   \n",
       "4        Departamento     Barranco        3         1       0    70   1200.0   \n",
       "5        Departamento        Comas        2         0       0    50   1300.0   \n",
       "6  Casa en condominio          Ate        5         4       5   750  22000.0   \n",
       "7  Casa en condominio  El Agustino        2         2       0    65   1000.0   \n",
       "8        Departamento   Pachacámac        1         0       0    36   1200.0   \n",
       "9        Departamento      Mi Perú        2         1       0    70   1500.0   \n",
       "\n",
       "   Mantenimiento  Impuesto  \n",
       "0          500.0      60.0  \n",
       "1            NaN       NaN  \n",
       "2          390.0      20.0  \n",
       "3          230.0       NaN  \n",
       "4            NaN       NaN  \n",
       "5          301.0      17.0  \n",
       "6            NaN       NaN  \n",
       "7            NaN       NaN  \n",
       "8            NaN       NaN  \n",
       "9          642.0      74.0  "
      ]
     },
     "execution_count": 21,
     "metadata": {},
     "output_type": "execute_result"
    }
   ],
   "source": [
    "#vamos a trabajar con el archivo que creamos llamado alquilerResidencial en la ultima clase\n",
    "dt=pd.read_csv(r\"C:\\Users\\User\\Desktop\\dataScience\\pandasDatos\\alquilerResidencial.csv\",sep=\";\")\n",
    "dt.head(10)"
   ]
  },
  {
   "cell_type": "code",
   "execution_count": 22,
   "metadata": {},
   "outputs": [
    {
     "data": {
      "text/plain": [
       "19532"
      ]
     },
     "execution_count": 22,
     "metadata": {},
     "output_type": "execute_result"
    }
   ],
   "source": [
    "#el cliente ve este archivo y necesita aclara ciertas dudas,por lo que nos envia una preguntas para que nosotros las resolvamos trabajando en este archivo:\n",
    "\n",
    "#1- Seleccione el numero de veces(frecuencia) en las que aparece el tipo de inmueble \"Departamento\", aqui la primera línea crea un filtro y la segunda línea utiliza ese filtro para obtener la cantidad de filas que cumplen con ese filtro.\n",
    "seleccion=dt['Tipo']=='Departamento'\n",
    "n1=dt[seleccion].shape[0]\n",
    "n1"
   ]
  },
  {
   "cell_type": "code",
   "execution_count": 23,
   "metadata": {},
   "outputs": [
    {
     "data": {
      "text/plain": [
       "2212"
      ]
     },
     "execution_count": 23,
     "metadata": {},
     "output_type": "execute_result"
    }
   ],
   "source": [
    "#seleccione los inmuebles con tipo \"Casa\",\"Casa en condominio\" y \"Casa de villa\", aqui tenemos una condicion de 3 criterios, por lo que al cumplirse alguno de ellos pasara a ser true\n",
    "seleccion2=(dt['Tipo']=='Casa')| (dt['Tipo']=='Casa en condominio') | (dt['Tipo']=='Casa de villa')\n",
    "n2=dt[seleccion2].shape[0]\n",
    "n2\n"
   ]
  },
  {
   "cell_type": "code",
   "execution_count": 24,
   "metadata": {},
   "outputs": [
    {
     "data": {
      "text/plain": [
       "8736"
      ]
     },
     "execution_count": 24,
     "metadata": {},
     "output_type": "execute_result"
    }
   ],
   "source": [
    "#seleccione los inmuebles con areas entre 60 y 100 metros cuadrados,incluyendo los limites,osea >=60 y <=100\n",
    "seleccion3=(dt['Area']>=60) & (dt['Area']<=100)\n",
    "n3=dt[seleccion3].shape[0]\n",
    "n3"
   ]
  },
  {
   "cell_type": "code",
   "execution_count": 26,
   "metadata": {},
   "outputs": [
    {
     "data": {
      "text/plain": [
       "41"
      ]
     },
     "execution_count": 26,
     "metadata": {},
     "output_type": "execute_result"
    }
   ],
   "source": [
    "#seleccione los inmuebles que tengan por lo menos 4 cuartos y alquiler menor de $2.000,00,osea  aqui debemos combinar la busqueda pero con dos columnas, Cuartos y Valor.\n",
    "seleccion4=(dt['Cuartos']>=4) & (dt['Valor']<2000)\n",
    "n4=dt[seleccion4].shape[0]\n",
    "n4"
   ]
  },
  {
   "cell_type": "code",
   "execution_count": 28,
   "metadata": {},
   "outputs": [
    {
     "name": "stdout",
     "output_type": "stream",
     "text": [
      "Número de inmuebles clasificados por tipo Departamento = 19532\n",
      "Número de inmuebles clasificados por tipo Casa,Casa en condominio y Casa de villa = 2212\n",
      "Número de inmuebles con areas entre 60 y 100 metros cuadrados,incluyendo los limites = 8736\n",
      "Número de inmuebles que tienen por lo menos 4 cuartos y alquiler menor de $2.000,00, = 41\n"
     ]
    }
   ],
   "source": [
    "#imprimimos los resultados para que se vean mejor asi:\n",
    "print(f\"Número de inmuebles clasificados por tipo Departamento = {n1}\")\n",
    "print(f\"Número de inmuebles clasificados por tipo Casa,Casa en condominio y Casa de villa = {n2}\")\n",
    "print(f\"Número de inmuebles con areas entre 60 y 100 metros cuadrados,incluyendo los limites = {n3}\")\n",
    "print(f\"Número de inmuebles que tienen por lo menos 4 cuartos y alquiler menor de $2.000,00, = {n4}\")\n",
    "\n",
    "\n",
    "\n"
   ]
  }
 ],
 "metadata": {
  "kernelspec": {
   "display_name": "Python 3.10.6 64-bit",
   "language": "python",
   "name": "python3"
  },
  "language_info": {
   "name": "python",
   "version": "3.10.6"
  },
  "orig_nbformat": 4,
  "vscode": {
   "interpreter": {
    "hash": "df95319d8ce4e1d89f5365ae10992bc1f65da593082b1d264e8f529830ec2f02"
   }
  }
 },
 "nbformat": 4,
 "nbformat_minor": 2
}
